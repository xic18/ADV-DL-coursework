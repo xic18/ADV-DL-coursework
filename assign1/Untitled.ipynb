{
 "cells": [
  {
   "cell_type": "code",
   "execution_count": 1,
   "id": "91e6c389",
   "metadata": {},
   "outputs": [
    {
     "name": "stderr",
     "output_type": "stream",
     "text": [
      "C:\\ProgramData\\Anaconda3\\envs\\Newenv_3_10\\lib\\site-packages\\tqdm\\auto.py:21: TqdmWarning: IProgress not found. Please update jupyter and ipywidgets. See https://ipywidgets.readthedocs.io/en/stable/user_install.html\n",
      "  from .autonotebook import tqdm as notebook_tqdm\n"
     ]
    }
   ],
   "source": [
    "import torch\n",
    "from torchvision.ops.boxes import box_iou\n",
    "from torchmetrics.detection import MeanAveragePrecision"
   ]
  },
  {
   "cell_type": "code",
   "execution_count": 3,
   "id": "88010775",
   "metadata": {},
   "outputs": [],
   "source": [
    "MAP = MeanAveragePrecision(iou_thresholds=[0.1])"
   ]
  },
  {
   "cell_type": "code",
   "execution_count": null,
   "id": "08db3f22",
   "metadata": {},
   "outputs": [],
   "source": []
  },
  {
   "cell_type": "code",
   "execution_count": 37,
   "id": "b8bb45da",
   "metadata": {},
   "outputs": [],
   "source": [
    "q = torch.randn((1, 4,8, int(512/8)))\n",
    "k= torch.randn((1, 144,8, 64))"
   ]
  },
  {
   "cell_type": "code",
   "execution_count": 33,
   "id": "16b014a5",
   "metadata": {},
   "outputs": [
    {
     "data": {
      "text/plain": [
       "64.0"
      ]
     },
     "execution_count": 33,
     "metadata": {},
     "output_type": "execute_result"
    }
   ],
   "source": [
    "torch.tensordot(q,k,dims=([1],[0]))"
   ]
  },
  {
   "cell_type": "code",
   "execution_count": 18,
   "id": "239c837d",
   "metadata": {},
   "outputs": [
    {
     "data": {
      "text/plain": [
       "tensor([[[-0.2830,  1.5214,  0.3321,  1.0547, -0.5133,  1.1126]]])"
      ]
     },
     "execution_count": 18,
     "metadata": {},
     "output_type": "execute_result"
    }
   ],
   "source": [
    "a=torch.randn((1, 1, 6))\n",
    "a"
   ]
  },
  {
   "cell_type": "code",
   "execution_count": 38,
   "id": "1b74a8ac",
   "metadata": {},
   "outputs": [
    {
     "data": {
      "text/plain": [
       "tensor([[[[-0.2830,  1.5214],\n",
       "          [ 0.3321,  1.0547],\n",
       "          [-0.5133,  1.1126]]]])"
      ]
     },
     "execution_count": 38,
     "metadata": {},
     "output_type": "execute_result"
    }
   ],
   "source": [
    "a.reshape(1,1,2,3).reshape(1,1,3,2)"
   ]
  },
  {
   "cell_type": "code",
   "execution_count": 29,
   "id": "0db44b2f",
   "metadata": {},
   "outputs": [
    {
     "data": {
      "text/plain": [
       "tensor([[[[-0.2830,  1.0547],\n",
       "          [ 1.5214, -0.5133],\n",
       "          [ 0.3321,  1.1126]]]])"
      ]
     },
     "execution_count": 29,
     "metadata": {},
     "output_type": "execute_result"
    }
   ],
   "source": [
    "a.reshape(1,1,2,3).transpose(2,3)"
   ]
  },
  {
   "cell_type": "code",
   "execution_count": 31,
   "id": "3dde39a3",
   "metadata": {},
   "outputs": [
    {
     "data": {
      "text/plain": [
       "tensor([[[[-0.2830,  1.5214,  0.3321],\n",
       "          [ 1.0547, -0.5133,  1.1126]]]])"
      ]
     },
     "execution_count": 31,
     "metadata": {},
     "output_type": "execute_result"
    }
   ],
   "source": [
    "a.reshape(1,1,2,3).permute(0,2,1,3).permute(0,2,1,3)"
   ]
  },
  {
   "cell_type": "code",
   "execution_count": 16,
   "id": "eed72bef",
   "metadata": {},
   "outputs": [
    {
     "data": {
      "text/plain": [
       "torch.Size([100, 4, 3])"
      ]
     },
     "execution_count": 16,
     "metadata": {},
     "output_type": "execute_result"
    }
   ],
   "source": [
    "torch.matmul(q,k.transpose(1, 2)).shape"
   ]
  },
  {
   "cell_type": "code",
   "execution_count": 9,
   "id": "429bfe0f",
   "metadata": {},
   "outputs": [
    {
     "data": {
      "text/plain": [
       "tensor([[[-0.3620, -1.0061],\n",
       "         [-0.8922, -0.6622],\n",
       "         [-2.3080,  2.5782]]])"
      ]
     },
     "execution_count": 9,
     "metadata": {},
     "output_type": "execute_result"
    }
   ],
   "source": [
    "k"
   ]
  },
  {
   "cell_type": "code",
   "execution_count": 10,
   "id": "2a55abc0",
   "metadata": {},
   "outputs": [
    {
     "data": {
      "text/plain": [
       "tensor([[[-0.3620, -0.8922, -2.3080],\n",
       "         [-1.0061, -0.6622,  2.5782]]])"
      ]
     },
     "execution_count": 10,
     "metadata": {},
     "output_type": "execute_result"
    }
   ],
   "source": [
    "k.transpose(1, 2)"
   ]
  }
 ],
 "metadata": {
  "kernelspec": {
   "display_name": "Python [conda env:Newenv_3_10]",
   "language": "python",
   "name": "conda-env-Newenv_3_10-py"
  },
  "language_info": {
   "codemirror_mode": {
    "name": "ipython",
    "version": 3
   },
   "file_extension": ".py",
   "mimetype": "text/x-python",
   "name": "python",
   "nbconvert_exporter": "python",
   "pygments_lexer": "ipython3",
   "version": "3.10.6"
  }
 },
 "nbformat": 4,
 "nbformat_minor": 5
}
